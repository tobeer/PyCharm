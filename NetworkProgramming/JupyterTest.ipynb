{
 "cells": [
  {
   "cell_type": "code",
   "execution_count": 3,
   "metadata": {
    "pycharm": {
     "name": "#%%\n"
    }
   },
   "outputs": [
    {
     "name": "stdout",
     "output_type": "stream",
     "text": [
      "Hello Jupyter!\n",
      "Hi!\n"
     ]
    }
   ],
   "source": [
    "print(\"Hello Jupyter!\")\n",
    "print(\"Hi!\")\n",
    "\n"
   ]
  },
  {
   "cell_type": "code",
   "execution_count": 3,
   "outputs": [
    {
     "name": "stdout",
     "output_type": "stream",
     "text": [
      "5/4\n"
     ]
    }
   ],
   "source": [
    "import fractions\n",
    "a = fractions.Fraction(1,2) # 分数表示Fraction(分子，分母)\n",
    "b = fractions.Fraction(3,4)\n",
    "print(a + b)\n"
   ],
   "metadata": {
    "collapsed": false,
    "pycharm": {
     "name": "#%%\n"
    }
   }
  },
  {
   "cell_type": "code",
   "execution_count": 4,
   "metadata": {},
   "outputs": [
    {
     "name": "stdout",
     "output_type": "stream",
     "text": [
      "(3+5j)\n"
     ]
    }
   ],
   "source": [
    "a = complex(1,2) # 复数表示complex(实数，虚数)\n",
    "b = 2 + 3j # 另一种表示\n",
    "print(a + b)"
   ]
  },
  {
   "cell_type": "code",
   "execution_count": 12,
   "outputs": [
    {
     "name": "stdout",
     "output_type": "stream",
     "text": [
      "cat is a kind of mammal\n",
      "NewYork is in US, but Shanghai is in China\n"
     ]
    }
   ],
   "source": [
    "# 格式化字符串\n",
    "print('{} is a kind of {}'.format('cat','mammal'))\n",
    "# 显示指定字段\n",
    "print('{3} is in {2}, but {1} is in {0}'.format('China', 'Shanghai', 'US', 'NewYork'))\n"
   ],
   "metadata": {
    "collapsed": false,
    "pycharm": {
     "name": "#%%\n"
    }
   }
  },
  {
   "cell_type": "code",
   "execution_count": 19,
   "outputs": [
    {
     "name": "stdout",
     "output_type": "stream",
     "text": [
      "set1: {1, 2, 3}\n",
      "set2: {4, 5, 6}\n",
      "set1: {10, 1, 2, 3}\n",
      "set1: {1, 2, 3, 4, 5, 6, 10}\n",
      "{1, 2, 3, 5, 6, 10}\n",
      "{1, 2, 3, 6, 10}\n",
      "set()\n",
      "----交集、并集与差集----\n",
      "set1:{1, 2, 3, 4}, set2{4, 5, 6}\n",
      "并集 {1, 2, 3, 4, 5, 6}\n",
      "交集 {4}\n",
      "差集 {1, 2, 3}\n",
      "差集 {1, 2, 3, 5, 6}\n"
     ]
    }
   ],
   "source": [
    "# set 无序且唯一\n",
    "set1 = {1,2,3}\n",
    "list1 = [4,5,6]\n",
    "set2 = set(list1)\n",
    "print('set1:',set1)\n",
    "print('set2:',set2)\n",
    "#添加元素\n",
    "set1.add(10)\n",
    "print('set1:',set1)\n",
    "set1.update(set2)\n",
    "print('set1:',set1)\n",
    "#删除元素\n",
    "set1.discard(4) #去除不存在的元素不会报错\n",
    "print(set1)\n",
    "set1.remove(5) #去除不存在的元素会报错\n",
    "print(set1)\n",
    "set1.clear()\n",
    "print(set1) #清空set\n",
    "set1 = {1,2,3,4}\n",
    "#交集、并集与差集\n",
    "print('----交集、并集与差集----')\n",
    "print('set1:{}, set2{}'.format(set1,set2))\n",
    "print('并集',set1.union(set2)) #在set1或set2中的元素\n",
    "print('交集',set1.intersection(set2)) #同时在set1和set2中的元素\n",
    "print('差集',set1.difference(set2)) #在set1但不在set2中的元素\n",
    "print('差集',set1.symmetric_difference(set2)) #只在set1或只在set2中的元素\n",
    "\n",
    "\n",
    "\n"
   ],
   "metadata": {
    "collapsed": false,
    "pycharm": {
     "name": "#%%\n"
    }
   }
  }
 ],
 "metadata": {
  "kernelspec": {
   "display_name": "Python 3",
   "language": "python",
   "name": "python3"
  },
  "language_info": {
   "codemirror_mode": {
    "name": "ipython",
    "version": 3
   },
   "file_extension": ".py",
   "mimetype": "text/x-python",
   "name": "python",
   "nbconvert_exporter": "python",
   "pygments_lexer": "ipython3",
   "version": "3.8.0"
  }
 },
 "nbformat": 4,
 "nbformat_minor": 1
}